{
 "cells": [
  {
   "cell_type": "markdown",
   "id": "0c1b22c7",
   "metadata": {},
   "source": [
    "# Overview\n",
    "\n",
    "The Maternal Artificial Intelligence project demonstrates a simple approach to utilize website content as a context for answering questions related to the website's subject. In this example, we use a website called \"Sou Mãe,\" which has over 2,000 blog posts. These posts are converted into a CSV format, and various techniques are applied to use this content as a context for answering questions.\n",
    "\n",
    "# Key Concepts\n",
    "* **Loading Data**: The data is loaded from a CSV file containing blog posts.\n",
    "* **Preprocessing Data**: The blog posts are cleaned by removing HTML tags, newlines, and other unnecessary characters.\n",
    "* **Embeddings**: Embeddings are used to represent the blog posts in a continuous vector space. OpenAI's API is utilized to create embeddings for each post.\n",
    "* **Similarity**: The similarity between a query and the embeddings is calculated using the dot product, which represents the cosine similarity in this case.\n",
    "* **Context Selection**: The most relevant sections of the blog posts are selected based on their similarity to the query.\n",
    "* **Question Answering**: OpenAI's Completion API is used to generate answers to queries, using the selected contexts.\n",
    "\n",
    "# Code Breakdown\n",
    "\n",
    "## Importing Libraries\n",
    "\n",
    "The code starts by importing necessary libraries, such as numpy, openai, pandas, re, csv, and time. These libraries will be used throughout the code to process data and interact with the OpenAI API."
   ]
  },
  {
   "cell_type": "code",
   "execution_count": 53,
   "id": "0c8c6325",
   "metadata": {},
   "outputs": [],
   "source": [
    "import numpy as np\n",
    "import openai\n",
    "import pandas as pd\n",
    "import pickle\n",
    "import tiktoken\n",
    "import re\n",
    "import csv\n",
    "import time\n",
    "from typing import Dict, List, Tuple"
   ]
  },
  {
   "cell_type": "markdown",
   "id": "7f4b2159",
   "metadata": {},
   "source": [
    "## Configuration\n",
    "\n",
    "Here, we define some essential configuration values, such as the OpenAI API key, model names, maximum section length, separator, and encoding."
   ]
  },
  {
   "cell_type": "code",
   "execution_count": 69,
   "id": "53d2d6a8",
   "metadata": {},
   "outputs": [],
   "source": [
    "# Configuration\n",
    "openai.api_key = \"PUT_YOUR_KEY_HERE\"\n",
    "COMPLETIONS_MODEL = \"text-davinci-003\"\n",
    "EMBEDDING_MODEL = \"text-embedding-ada-002\""
   ]
  },
  {
   "cell_type": "markdown",
   "id": "7e68c8f6",
   "metadata": {},
   "source": [
    "## Loading and Preprocessing Data\n",
    "The code reads data from a CSV file named posts_complete.csv and preprocesses it by removing HTML tags, newlines, carriage returns, tabs, and square brackets."
   ]
  },
  {
   "cell_type": "code",
   "execution_count": 54,
   "id": "edd62e22",
   "metadata": {},
   "outputs": [
    {
     "name": "stdout",
     "output_type": "stream",
     "text": [
      "2236 rows in the data.\n"
     ]
    },
    {
     "data": {
      "text/html": [
       "<div>\n",
       "<style scoped>\n",
       "    .dataframe tbody tr th:only-of-type {\n",
       "        vertical-align: middle;\n",
       "    }\n",
       "\n",
       "    .dataframe tbody tr th {\n",
       "        vertical-align: top;\n",
       "    }\n",
       "\n",
       "    .dataframe thead th {\n",
       "        text-align: right;\n",
       "    }\n",
       "</style>\n",
       "<table border=\"1\" class=\"dataframe\">\n",
       "  <thead>\n",
       "    <tr style=\"text-align: right;\">\n",
       "      <th></th>\n",
       "      <th>post_title</th>\n",
       "      <th>post_content</th>\n",
       "    </tr>\n",
       "  </thead>\n",
       "  <tbody>\n",
       "    <tr>\n",
       "      <th>1770</th>\n",
       "      <td>Teste de gravidez online - será que funciona? ...</td>\n",
       "      <td>Como funciona um teste de gravidez online? Em ...</td>\n",
       "    </tr>\n",
       "    <tr>\n",
       "      <th>1710</th>\n",
       "      <td>Dicas para dirigir com segurança com crianças ...</td>\n",
       "      <td>Paraevitar acidentes, selecionamos algumas dic...</td>\n",
       "    </tr>\n",
       "    <tr>\n",
       "      <th>185</th>\n",
       "      <td>Decoração de banheiro infantil</td>\n",
       "      <td>Algumas casas tem um banheiro a mais para as c...</td>\n",
       "    </tr>\n",
       "    <tr>\n",
       "      <th>467</th>\n",
       "      <td>Como fazer a limpeza do coto umbilical?</td>\n",
       "      <td>Os pais de primeira viagem costumam ficar nerv...</td>\n",
       "    </tr>\n",
       "    <tr>\n",
       "      <th>949</th>\n",
       "      <td>Vídeo - Recebidos e Comprinhas de Maio</td>\n",
       "      <td>Olá mamães, vídeo novo no ar!Confiram os produ...</td>\n",
       "    </tr>\n",
       "  </tbody>\n",
       "</table>\n",
       "</div>"
      ],
      "text/plain": [
       "                                             post_title  \\\n",
       "1770  Teste de gravidez online - será que funciona? ...   \n",
       "1710  Dicas para dirigir com segurança com crianças ...   \n",
       "185                      Decoração de banheiro infantil   \n",
       "467             Como fazer a limpeza do coto umbilical?   \n",
       "949              Vídeo - Recebidos e Comprinhas de Maio   \n",
       "\n",
       "                                           post_content  \n",
       "1770  Como funciona um teste de gravidez online? Em ...  \n",
       "1710  Paraevitar acidentes, selecionamos algumas dic...  \n",
       "185   Algumas casas tem um banheiro a mais para as c...  \n",
       "467   Os pais de primeira viagem costumam ficar nerv...  \n",
       "949   Olá mamães, vídeo novo no ar!Confiram os produ...  "
      ]
     },
     "execution_count": 54,
     "metadata": {},
     "output_type": "execute_result"
    }
   ],
   "source": [
    "# Load data\n",
    "df = pd.read_csv('posts_complete.csv')\n",
    "\n",
    "# Preprocess data\n",
    "df['post_content'] = df.post_content.apply(lambda x: re.sub('<[^<]+?>', '', str(x)))\n",
    "df['post_content'] = df.post_content.apply(lambda x: re.sub('\\n', '', str(x)))\n",
    "df['post_content'] = df.post_content.apply(lambda x: re.sub('\\r', '', str(x)))\n",
    "df['post_content'] = df.post_content.apply(lambda x: re.sub('\\t', '', str(x)))\n",
    "df['post_content'] = df.post_content.apply(lambda x: re.sub('\\[.*\\]', '', str(x)))\n",
    "\n",
    "#df = df.set_index([\"post_title\", \"post_content\"])\n",
    "print(f\"{len(df)} rows in the data.\")\n",
    "df.sample(5)"
   ]
  },
  {
   "cell_type": "markdown",
   "id": "1e564e3f",
   "metadata": {},
   "source": [
    "## Functions\n",
    "Several functions are defined to handle different aspects of the code:\n",
    "\n",
    "* `get_embedding()`: Retrieves embeddings from OpenAI API for the given text.\n",
    "* `compute_doc_embeddings()`: Creates document embeddings for each row in the DataFrame and saves them to a CSV file.\n",
    "* `load_embeddings()`: Loads document embeddings from a CSV file.\n",
    "* `vector_similarity()`: Calculates the similarity between two vectors.\n",
    "* `order_document_sections_by_query_similarity()`: Orders document sections based on their similarity to a given query.\n",
    "* `construct_prompt()`: Constructs a prompt for the OpenAI API based on the most relevant document sections.\n",
    "* `answer_query_with_context()`: Sends the constructed prompt to the OpenAI API and receives the answer to the query.\n",
    "\n",
    "## Loading or Computing Embeddings\n",
    "The code allows you to either compute the embeddings from scratch using the `compute_doc_embeddings()` function or load them from a CSV file using the `load_embeddings()` function."
   ]
  },
  {
   "cell_type": "code",
   "execution_count": 55,
   "id": "c3acc59d",
   "metadata": {},
   "outputs": [],
   "source": [
    "def get_embedding(text: str, model: str = EMBEDDING_MODEL) -> List[float]:\n",
    "    delay = 1\n",
    "    time.sleep(delay)\n",
    "    \n",
    "    result = openai.Embedding.create(\n",
    "        model=model,\n",
    "        input=text\n",
    "    )\n",
    "    return result[\"data\"][0][\"embedding\"]\n",
    "\n",
    "def compute_doc_embeddings(df: pd.DataFrame) -> Dict[Tuple[str, str], List[float]]:\n",
    "    \"\"\"\n",
    "    Create an embedding for each row in the dataframe using the OpenAI Embeddings API.\n",
    "\n",
    "    Return a dictionary that maps between each embedding vector and the index of the row that it corresponds to.\n",
    "    \"\"\"\n",
    "    # here write the return in a file\n",
    "    file = open('embeddings.csv', 'w')\n",
    "    writer = csv.writer(file)\n",
    "\n",
    "    embeddings_dict = {}\n",
    "\n",
    "    for idx, r in df.iterrows():\n",
    "        post_content = r['post_content']\n",
    "        embedding = get_embedding(post_content)\n",
    "        key = (idx, post_content)\n",
    "        embeddings_dict[key] = embedding\n",
    "        # grava em arquivo linha a linha\n",
    "        list = []\n",
    "        list.append(key[0])\n",
    "        list.append(key[1])\n",
    "        for k in embedding:\n",
    "            list.append(k)\n",
    "        writer.writerow(list)\n",
    "        print(key[0])\n",
    "\n",
    "    return embeddings_dict"
   ]
  },
  {
   "cell_type": "code",
   "execution_count": 56,
   "id": "84846bec",
   "metadata": {},
   "outputs": [],
   "source": [
    "def load_embeddings(fname: str) -> Dict[Tuple[str, str], List[float]]:\n",
    "    \"\"\"\n",
    "    Read the document embeddings and their keys from a CSV.\n",
    "    \n",
    "    fname is the path to a CSV with exactly these named columns: \n",
    "        \"title\", \"heading\", \"0\", \"1\", ... up to the length of the embedding vectors.\n",
    "    \"\"\"\n",
    "    \n",
    "    df = pd.read_csv(fname, header=0)\n",
    "    max_dim = max([int(c) for c in df.columns if c != \"title\" and c != \"heading\"])\n",
    "    return {\n",
    "           (r.title, r.heading): [r[str(i)] for i in range(max_dim + 1)] for _, r in df.iterrows()\n",
    "    }"
   ]
  },
  {
   "cell_type": "code",
   "execution_count": 57,
   "id": "4a5634ac",
   "metadata": {},
   "outputs": [],
   "source": [
    "#Here you can load_embeddings from a CSV or compute all embeddings again\n",
    "\n",
    "#document_embeddings = compute_doc_embeddings(df)\n",
    "document_embeddings = load_embeddings(\"embeddings.csv\")"
   ]
  },
  {
   "cell_type": "code",
   "execution_count": 58,
   "id": "acb4da6a",
   "metadata": {},
   "outputs": [
    {
     "name": "stdout",
     "output_type": "stream",
     "text": [
      "(0, 'Como\\xa0falar com o SouMãe.org?Se você chegou aqui nessa página é porque deseja entrar em contato com SouMãe.org. Se você tem alguma dúvida ou sugestão mande um email para gisele@soumae.org ou preencha o formulário a baixo.Você é empresa e acha que seu produto combina com o nosso blog, deseja saber como\\xa0anunciar aqui no\\xa0SouMãe.org? Entre em contato para verificar as opções de anunciar\\xa0no SouMãe.org.') : [0.0035688076168298, -0.0009585248772054, -0.0086283031851053, -0.0093294316902756, -0.0219939611852169]... (1536 entries)\n"
     ]
    }
   ],
   "source": [
    "# An example embedding:\n",
    "example_entry = list(document_embeddings.items())[0]\n",
    "print(f\"{example_entry[0]} : {example_entry[1][:5]}... ({len(example_entry[1])} entries)\")"
   ]
  },
  {
   "cell_type": "markdown",
   "id": "7c8239b3",
   "metadata": {},
   "source": [
    "# Similarity and Context Selection Functions: \n",
    "Define functions for calculating similarity between embeddings and selecting relevant contexts."
   ]
  },
  {
   "cell_type": "code",
   "execution_count": 59,
   "id": "d83bf1f7",
   "metadata": {},
   "outputs": [],
   "source": [
    "def vector_similarity(x: List[float], y: List[float]) -> float:\n",
    "    \"\"\"\n",
    "    Returns the similarity between two vectors.\n",
    "    \n",
    "    Because OpenAI Embeddings are normalized to length 1, the cosine similarity is the same as the dot product.\n",
    "    \"\"\"\n",
    "    return np.dot(np.array(x), np.array(y))\n",
    "\n",
    "def order_document_sections_by_query_similarity(query: str, contexts: Dict[Tuple[str, str], np.ndarray]) -> List[Tuple[float, Tuple[str, str]]]:\n",
    "    \"\"\"\n",
    "    Find the query embedding for the supplied query, and compare it against all of the pre-calculated document embeddings\n",
    "    to find the most relevant sections. \n",
    "    \n",
    "    Return the list of document sections, sorted by relevance in descending order.\n",
    "    \"\"\"\n",
    "    query_embedding = get_embedding(query)\n",
    "    \n",
    "    document_similarities = sorted([\n",
    "        (vector_similarity(query_embedding, doc_embedding), doc_index) for doc_index, doc_embedding in contexts.items()\n",
    "    ], reverse=True)\n",
    "    \n",
    "    return document_similarities\n"
   ]
  },
  {
   "cell_type": "code",
   "execution_count": 60,
   "id": "e8c0c80b",
   "metadata": {},
   "outputs": [
    {
     "data": {
      "text/plain": [
       "[(0.8437692218247463,\n",
       "  (429,\n",
       "   'Então… para quem não sabe, sou Gisele, 31 anos, casada, com uma filha que vai fazer 2 anos daqui a alguns dias. Também sou dona aqui do\\xa0soumae.org, esse\\xa0site existe desde 12 de setembro de 2014, onde o foco é dar dicas de decoração de festas infantis, chá de bebê, decoração de quartos e dicas para gestantes e mães… mas ele não é um blog pessoal… ele é meu trabalho. Gosto muito, lógico! Mas é trabalho!Eu não trabalho fora, decidimos, marido e eu, que eu ficaria em casa cuidando da nossa filhota, Isabela, e agradeço a Deus por ter essa possibilidade de passar esse tempo precioso com ela! Com isso acabei criando o\\xa0soumae.org\\xa0que hoje tem mais de 700 mil visualizações por mês! IURRU!Voltando ao assunto “blog novo”… As vezes eu até tento escrever algo um pouco mais pessoal no soumae…\\xa0como dicas de atividades que faço com minha filha, ou outros assuntos (bem raro), mas esse não é o foco do soumae, até que por fim desisti de compartilhar coisas pessoais nele e deixar ele somente profissional mesmo.Mas eu sempre tive vontade de ter mais um blog, (marido me acha doida), mas ter um blog mais pessoal, para escrever quando estivesse com vontade e sobre o que me desse na telha…Até cheguei a criar um blog grátis no wordpress.com pra começar a escrever... mas...O que me fez tomar coragem e começar um blog do zero foi um site que conheci essa semana…\\xa0The Verses Project\\xa0– Um novo jeito de fazer devocional. Esse é\\xa0um projeto musical e visual para memorizar e meditar nas escrituras.O projeto funciona mais ou menos assim… toda semana é escolhido um trecho da Bíblia e é postado uma música acompanhada de uma arte e um post sobre o assunto para você meditar.O que isso tem a ver com o meu blog pessoal?Quero compartilhar aqui coisas que fazemos em casa, em família, como:as atividades da Isabela… eu costumo contar histórias bíblicas para ela, mas percebo que ela entende e grava muito melhor quando é associada com outras coisas, como música, vídeo, gravuras, teatrinho com bonecos e etc… (tipo a ideia do projeto para meditar e memorizar as escrituras, usar outras recursos para facilitar nosso entendimento, isso funciona com adultos e crianças!), por isso me deu vontade de\\xa0compartilhar as coisas que fazemos aqui em casa, vá que tenha mais alguma mãe por aí querendo algumas ideias…além da parte bíblica, quero compartilhar o nosso planejamento semanal com a Isabela… comecei isso de planejamento desde que a Isabela tinha 1 ano e meio, agora ela vai fazer 2 anos… separo assuntos semanais\\xa0e vamos vendo coisas daquele assunto ao longo da semana, como cores (ela sabe mais cores que apenas as cores primárias) eu fazia 1 cor por semana, na outra semana medidas (leve, pesado, grande, pequeno…), depois formas geométricas, \\xa0e assim fizemos, vários temas… quero compartilhar aqui, algumas coisas que já fizemos e as próximas atividades que vamos começar agora com ela fazendo 2 anos.receitas… estamos agora em uma fase mais saudável aqui em casa e quero compartilhar as receitas que eu for fazendo, não sou uma pessoa muito prendada na cozinha, mas estou me esforçando a aprender para o bem e alegria de toda a família!continuar dando dicas de livros sobre casamento, maternidade e também sobre filmes, animação…e o que mais eu achar legal compartilhar aqui nesse meu novo espaço!Esse é o primeiro versículo que peguei no The Verses Project, é o mais recente:Todavia, lembro-me também do que pode dar-me esperança:Graças ao grande amor do Senhor é que não somos consumidos, pois as suas misericórdias são inesgotáveis.Renovam-se cada manhã; grande é a tua fidelidade!Lamentações 3:21-23Embora às vezes as dores, preocupações, sofrimento e problemas pareçam não ter fim, maior é a\\xa0misericórdia do nosso Deus.\\xa0As misericórdias de Deus nunca chegam ao fim.\\xa0Embora tudo esteja escuro, temos que confiar que a luz está chegando.\\xa0Lembre-se que\\xa0as misericórdias de Deus\\xa0se renovam a cada manhã.Você pode clicar nesse link para ouvir\\xa0a música e conhecer mais sobre o projeto:\\xa0Zach Winters\\xa0–\\xa0Lamentations 3:21-23Seja cheio de esperança por causa de quem é Deus!E vamos em frente!Resumo da história:Resolvi criar um espaço meu, pessoal, aqui no soumae mesmo. Então agora além das dicas que vocês estão acostumadas a acompanhar, agora também vão acompanhar um pouquinho das nossas atividades em família...Bjs,')),\n",
       " (0.8395990922561309,\n",
       "  (1,\n",
       "   'Olá mamães!O\\xa0Sou Mãe foi fundado\\xa0em\\xa0setembro de 2014 e tem mais de 1 milhão de visualizações por mês. O\\xa0objetivo é\\xa0compartilhar dicas sobre a vida nesse\\xa0universo materno! Sou Gisele, tenho 35 anos, gaúcha, mãe de duas meninas, Isabela de 5 anos e a Elisa\\xa0de 1 ano. Além disso sou\\xa0Baby Planner certificada internacionalmente pelo IMPI e em Marketing Digital pela\\xa0 Udacity.Aqui no blog você vai encontrar várias dicas de diversos assuntos sobre maternidade! Desde acompanhar sua gravidez semana a semana, a ter dicas sobre enxoval, decoração de chá de bebê, decoração de festas infantis, quartos de bebê e criança, criação de filhos e muito mais.Também temos participações especiais de profissionais da área materno infantil, tanto em vídeos no nosso canal no YouTube como em posts no blog.E aproveite para acompanhar o Sou Mãe no Instagram, Facebook e também no Pinterest!Espero que gostem das dicas e participem.&nbsp;Beijos,Gisele Cirolinigisele@soumae.org'))]"
      ]
     },
     "execution_count": 60,
     "metadata": {},
     "output_type": "execute_result"
    }
   ],
   "source": [
    "order_document_sections_by_query_similarity(\"Quem é a Gisele?\", document_embeddings)[:2]\n"
   ]
  },
  {
   "cell_type": "markdown",
   "id": "5a7d59eb",
   "metadata": {},
   "source": [
    "# Answering Queries: \n",
    "Define a function that utilizes OpenAI's Completion API to generate answers to queries using the selected contexts."
   ]
  },
  {
   "cell_type": "code",
   "execution_count": 61,
   "id": "7059fa2e",
   "metadata": {},
   "outputs": [
    {
     "data": {
      "text/plain": [
       "'Context separator contains 3 tokens'"
      ]
     },
     "execution_count": 61,
     "metadata": {},
     "output_type": "execute_result"
    }
   ],
   "source": [
    "MAX_SECTION_LEN = 2000\n",
    "SEPARATOR = \"\\n* \"\n",
    "ENCODING = \"gpt2\"  # encoding for text-davinci-003\n",
    "\n",
    "encoding = tiktoken.get_encoding(ENCODING)\n",
    "separator_len = len(encoding.encode(SEPARATOR))\n",
    "\n",
    "f\"Context separator contains {separator_len} tokens\""
   ]
  },
  {
   "cell_type": "code",
   "execution_count": 62,
   "id": "20b3be79",
   "metadata": {},
   "outputs": [],
   "source": [
    "def construct_prompt(question: str, context_embeddings: dict, df: pd.DataFrame) -> str:\n",
    "    \"\"\"\n",
    "    Fetch relevant \n",
    "    \"\"\"\n",
    "    most_relevant_document_sections = order_document_sections_by_query_similarity(question, context_embeddings)\n",
    "    \n",
    "    chosen_sections = []\n",
    "    chosen_sections_len = 0\n",
    "    chosen_sections_indexes = []\n",
    "    \n",
    "    for _, section_index in most_relevant_document_sections:\n",
    "        # Add contexts until we run out of space.        \n",
    "        document_section = df.loc[section_index[0]]\n",
    "        chosen_sections_len += len(encoding.encode(document_section[1])) + separator_len\n",
    "        if chosen_sections_len > MAX_SECTION_LEN:\n",
    "            break\n",
    "            \n",
    "        chosen_sections.append(SEPARATOR + document_section[1].replace(\"\\n\", \" \"))\n",
    "        chosen_sections_indexes.append(str(section_index))\n",
    "            \n",
    "    # Useful diagnostic information\n",
    "#     print(f\"Selected {len(chosen_sections)} document sections:\")\n",
    "#     print(\"\\n\".join(chosen_sections_indexes))\n",
    "    \n",
    "    header = \"\"\"Answer the question using the provided context\\n\\nContext:\\n\"\"\"\n",
    "    \n",
    "    return header + \"\".join(chosen_sections) + \"\\n\\n Q: \" + question + \"\\n A:\"\n"
   ]
  },
  {
   "cell_type": "code",
   "execution_count": 63,
   "id": "b273b1af",
   "metadata": {},
   "outputs": [],
   "source": [
    "COMPLETIONS_API_PARAMS = {\n",
    "    # We use temperature of 0.0 because it gives the most predictable, factual answer.\n",
    "    \"temperature\": 1,\n",
    "    \"max_tokens\": 500,\n",
    "    \"model\": COMPLETIONS_MODEL,\n",
    "}"
   ]
  },
  {
   "cell_type": "code",
   "execution_count": 64,
   "id": "cf9f751f",
   "metadata": {},
   "outputs": [],
   "source": [
    "def answer_query_with_context(\n",
    "    query: str,\n",
    "    df: pd.DataFrame,\n",
    "    document_embeddings: Dict[Tuple[str, str], np.array],\n",
    "    show_prompt: bool = False\n",
    ") -> str:\n",
    "    prompt = construct_prompt(\n",
    "        query,\n",
    "        document_embeddings,\n",
    "        df\n",
    "    )\n",
    "    \n",
    "    if show_prompt:\n",
    "        print(prompt)\n",
    "\n",
    "    response = openai.Completion.create(\n",
    "                prompt=prompt,\n",
    "                **COMPLETIONS_API_PARAMS\n",
    "            )\n",
    "\n",
    "    return response[\"choices\"][0][\"text\"].strip(\" \\n\")"
   ]
  },
  {
   "cell_type": "markdown",
   "id": "3f1e2b7e",
   "metadata": {},
   "source": [
    "# Example Usage: \n",
    "Use the answer_query_with_context function to ask a question and get an answer based on the website's content."
   ]
  },
  {
   "cell_type": "code",
   "execution_count": 65,
   "id": "98bcfd44",
   "metadata": {},
   "outputs": [
    {
     "name": "stdout",
     "output_type": "stream",
     "text": [
      "Answer the question using the provided context\n",
      "\n",
      "Context:\n",
      "\n",
      "* Então… para quem não sabe, sou Gisele, 31 anos, casada, com uma filha que vai fazer 2 anos daqui a alguns dias. Também sou dona aqui do soumae.org, esse site existe desde 12 de setembro de 2014, onde o foco é dar dicas de decoração de festas infantis, chá de bebê, decoração de quartos e dicas para gestantes e mães… mas ele não é um blog pessoal… ele é meu trabalho. Gosto muito, lógico! Mas é trabalho!Eu não trabalho fora, decidimos, marido e eu, que eu ficaria em casa cuidando da nossa filhota, Isabela, e agradeço a Deus por ter essa possibilidade de passar esse tempo precioso com ela! Com isso acabei criando o soumae.org que hoje tem mais de 700 mil visualizações por mês! IURRU!Voltando ao assunto “blog novo”… As vezes eu até tento escrever algo um pouco mais pessoal no soumae… como dicas de atividades que faço com minha filha, ou outros assuntos (bem raro), mas esse não é o foco do soumae, até que por fim desisti de compartilhar coisas pessoais nele e deixar ele somente profissional mesmo.Mas eu sempre tive vontade de ter mais um blog, (marido me acha doida), mas ter um blog mais pessoal, para escrever quando estivesse com vontade e sobre o que me desse na telha…Até cheguei a criar um blog grátis no wordpress.com pra começar a escrever... mas...O que me fez tomar coragem e começar um blog do zero foi um site que conheci essa semana… The Verses Project – Um novo jeito de fazer devocional. Esse é um projeto musical e visual para memorizar e meditar nas escrituras.O projeto funciona mais ou menos assim… toda semana é escolhido um trecho da Bíblia e é postado uma música acompanhada de uma arte e um post sobre o assunto para você meditar.O que isso tem a ver com o meu blog pessoal?Quero compartilhar aqui coisas que fazemos em casa, em família, como:as atividades da Isabela… eu costumo contar histórias bíblicas para ela, mas percebo que ela entende e grava muito melhor quando é associada com outras coisas, como música, vídeo, gravuras, teatrinho com bonecos e etc… (tipo a ideia do projeto para meditar e memorizar as escrituras, usar outras recursos para facilitar nosso entendimento, isso funciona com adultos e crianças!), por isso me deu vontade de compartilhar as coisas que fazemos aqui em casa, vá que tenha mais alguma mãe por aí querendo algumas ideias…além da parte bíblica, quero compartilhar o nosso planejamento semanal com a Isabela… comecei isso de planejamento desde que a Isabela tinha 1 ano e meio, agora ela vai fazer 2 anos… separo assuntos semanais e vamos vendo coisas daquele assunto ao longo da semana, como cores (ela sabe mais cores que apenas as cores primárias) eu fazia 1 cor por semana, na outra semana medidas (leve, pesado, grande, pequeno…), depois formas geométricas,  e assim fizemos, vários temas… quero compartilhar aqui, algumas coisas que já fizemos e as próximas atividades que vamos começar agora com ela fazendo 2 anos.receitas… estamos agora em uma fase mais saudável aqui em casa e quero compartilhar as receitas que eu for fazendo, não sou uma pessoa muito prendada na cozinha, mas estou me esforçando a aprender para o bem e alegria de toda a família!continuar dando dicas de livros sobre casamento, maternidade e também sobre filmes, animação…e o que mais eu achar legal compartilhar aqui nesse meu novo espaço!Esse é o primeiro versículo que peguei no The Verses Project, é o mais recente:Todavia, lembro-me também do que pode dar-me esperança:Graças ao grande amor do Senhor é que não somos consumidos, pois as suas misericórdias são inesgotáveis.Renovam-se cada manhã; grande é a tua fidelidade!Lamentações 3:21-23Embora às vezes as dores, preocupações, sofrimento e problemas pareçam não ter fim, maior é a misericórdia do nosso Deus. As misericórdias de Deus nunca chegam ao fim. Embora tudo esteja escuro, temos que confiar que a luz está chegando. Lembre-se que as misericórdias de Deus se renovam a cada manhã.Você pode clicar nesse link para ouvir a música e conhecer mais sobre o projeto: Zach Winters – Lamentations 3:21-23Seja cheio de esperança por causa de quem é Deus!E vamos em frente!Resumo da história:Resolvi criar um espaço meu, pessoal, aqui no soumae mesmo. Então agora além das dicas que vocês estão acostumadas a acompanhar, agora também vão acompanhar um pouquinho das nossas atividades em família...Bjs,\n",
      "\n",
      " Q: Quem é a Gisele?\n",
      " A:\n"
     ]
    },
    {
     "data": {
      "text/plain": [
       "'Gisele é uma mulher de 31 anos, casada e mãe de uma filha que está para completar dois anos. Ela é a dona do site Soumae.org, onde ela dá dicas de decoração de festas infantis, chá de bebê, decoração de quartos e dicas para gestantes e mães. Ela também decidiu ficar em casa para cuidar de sua filha. Agora ela também está criando um blog pessoal para compartilhar junto com a sua família atividades que eles fazem como: contar histórias bíblicas para a filha da Gisele, planejar atividades semanais, receitas saudáveis, dicas de livros para casais, e filmes. Além disso, também irá compartilhar as mensagens de esperança que Gisele recebe através do The Verses Project.'"
      ]
     },
     "execution_count": 65,
     "metadata": {},
     "output_type": "execute_result"
    }
   ],
   "source": [
    "answer_query_with_context(\"Quem é a Gisele?\", df, document_embeddings, True)"
   ]
  },
  {
   "cell_type": "code",
   "execution_count": 66,
   "id": "a5658cd4",
   "metadata": {},
   "outputs": [
    {
     "name": "stdout",
     "output_type": "stream",
     "text": [
      "Answer the question using the provided context\n",
      "\n",
      "Context:\n",
      "\n",
      "* Hoje a entrevista é com a mamãe Ana Paula, integrante aqui do Sou Mãe. Ana tem uma baby linda, Beatriz de 8 meses!Vamos conhecer um pouquinho da Ana e saber os desafios de ser mãe!1. Qual foi a maior coisa que você teve que abrir mão nesses últimos anos?Do meu tempo... afinal filhos são um investimento de tempo integral.2. O que você faria se tivesse 3 horas a mais no seu dia?Dormiria... hahahahah3.  Ser mãe fez você ficar mais careta?Não, nem um pouco! Sinto que sou outra pessoa, me redescobrindo de novo.....4.  No momento o que você mais precisa? conversar ou ficar em silêncio?Conversar... filhos muito pequenos ainda, não conversam tanto....mas acho que logo, logo vou querer ficar em silêncio..hahahah5. O que mudou nas suas amizades desde que sua filha nasceu?Mudou bastante...as solteiras ou casadas sem filhos se distanciaram um pouco, mas em compensação fiz muitasssss amizades novas com mães, e é bom porque você pode ficar falando de filhos 24h que ninguém te recrimina...hahhaha6. Você tem medo de que?Que algo aconteça com minha filha e com meu marido.7. O que você aprendeu com sua filha?A valorizar as coisas simples da vida como tomar um banho...heheheh....tenho aprendido também a ser mais altruísta, mais paciente, mais tolerante..8. Qual foi o maior desafio que você enfrentou com a maternidade?Me adaptar a nova rotina, abrir mão da minha vida em prol de outro, e saber que minha vida NUNCA mais seria como antes....9. Cite 3 coisas pelas quais você pode ser grata hoje.Por ter minha filha, pelo marido que tenho (ele se supera a cada dia no cuidado de mim, da nossa casa e da nossa filha) e por ter uma família e amigos que me amam e apoiam.10. Dê uma dica de mãe para mãe.Tudo vai dar certo, não se cobre tanto, não se culpe tanto, ninguém nasce sabendo e vamos aprendendo. Se Deus quisesse que a gente soubesse tudo sobre nossos filhos tinha nos dado um manual... mas ele confiou em nós, e se ele acreditou em nós, acho que está na hora de acreditarmos mais em nós mesmas e pararmos de dar bola para tudo o que os outros dizem... eles SEMPRE terão algo a dizer... nesses momentos faça apenas cara de paisagem e siga em frente!\n",
      "\n",
      " Q: Quem é a Ana Paula?\n",
      " A:\n"
     ]
    },
    {
     "data": {
      "text/plain": [
       "'Ana Paula é uma integrante do grupo Sou Mãe que tem uma filha de 8 meses, Beatriz. Ela compartilha sobre seus desafios de ser mãe no grupo.'"
      ]
     },
     "execution_count": 66,
     "metadata": {},
     "output_type": "execute_result"
    }
   ],
   "source": [
    "answer_query_with_context(\"Quem é a Ana Paula?\", df, document_embeddings, True)"
   ]
  },
  {
   "cell_type": "code",
   "execution_count": 67,
   "id": "187a140f",
   "metadata": {},
   "outputs": [
    {
     "name": "stdout",
     "output_type": "stream",
     "text": [
      "Answer the question using the provided context\n",
      "\n",
      "Context:\n",
      "\n",
      "* Hoje a entrevista é com a mamãe Ana Paula, integrante aqui do Sou Mãe. Ana tem uma baby linda, Beatriz de 8 meses!Vamos conhecer um pouquinho da Ana e saber os desafios de ser mãe!1. Qual foi a maior coisa que você teve que abrir mão nesses últimos anos?Do meu tempo... afinal filhos são um investimento de tempo integral.2. O que você faria se tivesse 3 horas a mais no seu dia?Dormiria... hahahahah3.  Ser mãe fez você ficar mais careta?Não, nem um pouco! Sinto que sou outra pessoa, me redescobrindo de novo.....4.  No momento o que você mais precisa? conversar ou ficar em silêncio?Conversar... filhos muito pequenos ainda, não conversam tanto....mas acho que logo, logo vou querer ficar em silêncio..hahahah5. O que mudou nas suas amizades desde que sua filha nasceu?Mudou bastante...as solteiras ou casadas sem filhos se distanciaram um pouco, mas em compensação fiz muitasssss amizades novas com mães, e é bom porque você pode ficar falando de filhos 24h que ninguém te recrimina...hahhaha6. Você tem medo de que?Que algo aconteça com minha filha e com meu marido.7. O que você aprendeu com sua filha?A valorizar as coisas simples da vida como tomar um banho...heheheh....tenho aprendido também a ser mais altruísta, mais paciente, mais tolerante..8. Qual foi o maior desafio que você enfrentou com a maternidade?Me adaptar a nova rotina, abrir mão da minha vida em prol de outro, e saber que minha vida NUNCA mais seria como antes....9. Cite 3 coisas pelas quais você pode ser grata hoje.Por ter minha filha, pelo marido que tenho (ele se supera a cada dia no cuidado de mim, da nossa casa e da nossa filha) e por ter uma família e amigos que me amam e apoiam.10. Dê uma dica de mãe para mãe.Tudo vai dar certo, não se cobre tanto, não se culpe tanto, ninguém nasce sabendo e vamos aprendendo. Se Deus quisesse que a gente soubesse tudo sobre nossos filhos tinha nos dado um manual... mas ele confiou em nós, e se ele acreditou em nós, acho que está na hora de acreditarmos mais em nós mesmas e pararmos de dar bola para tudo o que os outros dizem... eles SEMPRE terão algo a dizer... nesses momentos faça apenas cara de paisagem e siga em frente!\n",
      "\n",
      " Q: O que motiva a Ana Paula?\n",
      " A:\n"
     ]
    },
    {
     "data": {
      "text/plain": [
       "'O que motiva a Ana Paula é saber que Deus confia nela, e que ela pode aprender a cuidar de seu bebê, e também tem motivação ao ver o marido dela se superar diariamente para cuidar dela, da casa e da bebê. Ela também é grata por ter uma família e amigos amorosos que a apoiam.'"
      ]
     },
     "execution_count": 67,
     "metadata": {},
     "output_type": "execute_result"
    }
   ],
   "source": [
    "answer_query_with_context(\"O que motiva a Ana Paula?\", df, document_embeddings, True)"
   ]
  },
  {
   "cell_type": "code",
   "execution_count": 68,
   "id": "8c7e2e38",
   "metadata": {},
   "outputs": [
    {
     "name": "stdout",
     "output_type": "stream",
     "text": [
      "Answer the question using the provided context\n",
      "\n",
      "Context:\n",
      "\n",
      "* Você pode ler agora alguns dos melhores artigos já publicados sobre chá de bebê aqui:Chá de bebê menino: 20 idéias de decoraçãoChá de bebê menina: 20 idéias de decoraçãoChá de bebê – SafariIdéias de lembrancinhas para chá de bebêChá de fraldas – como organizar a festa e fazer a lista de presentes9 dicas para fazer um chá de bebê baratoLembrancinhas de maternidadePasso a passo de convite para chá de bebê10 Brincadeiras para chá de bebê8 tipos de chá de bebê para você escolher18 Idéias de bolo de fraldasO que servir no chá de bebê?Livro de visitas - Guest BooksChá de Bebê com 12 ideias bem criativas9 dicas para fazer um chá de bebê baratoKit chá de bebê corujas - gratuito para downloadKit chá de bebê menino - gratuito para download35 modelos incríveis de bolo para chá de bebêChá de bebê – 36 ideias de bolosPara ver TODOS os posts sobre de chá de bebê clique: Chá de bebê\n",
      "* Você está grávida e pensando nas muitas coisas que tem que fazer até o bebê nascer? Uma dessas coisas certamente é o Chá de Bebê!Então aproveite as dicas passadas pela Daiana Welter da Decor &amp; Etc e aproveite seu momento. Relaxa e curta essa festa especial com suas amigas e família.Se você ainda não fez a lista de presente para seu chá de bebê, dá uma conferida nesse post: Lista de presente para Chá de BebêE você já conhece nosso App para te ajudar na hora de fazer o enxoval e o chá de bebê? App Checklist enxoval e chá de bebê - disponível para Android&nbsp;\n",
      "\n",
      " Q: Me de 10 dicas de chá de bebê infantil?\n",
      " A:\n"
     ]
    },
    {
     "data": {
      "text/plain": [
       "'1. Escolha um tema colorido e divertido para o chá de bebê infantil; 2. Invite os amigos e familiares mais próximos; 3. Escolha um local apropriado; 4. Brinque com brincadeiras ou jogos relacionados ao tema; 5. Elabora uma lista completa com as coisas que você precisa comprar ou alugar; 6. Inclua algumas lembrancinhas para os convidados; 7. Procure por opções de decoração e itens de enxoval; 8. Escolha um bom bolo de bebê; 9. Encontre algumas frases e mensagens significativas relacionadas a bebê; 10. Solicita aplicativos que tornam mais fácil a organização do chá.'"
      ]
     },
     "execution_count": 68,
     "metadata": {},
     "output_type": "execute_result"
    }
   ],
   "source": [
    "answer_query_with_context(\"Me de 10 dicas de chá de bebê infantil?\", df, document_embeddings, True)"
   ]
  },
  {
   "cell_type": "markdown",
   "id": "6bf383e9",
   "metadata": {},
   "source": [
    "# Practical Takeaways\n",
    "* This approach allows you to leverage website content as a valuable resource for answering queries.\n",
    "* By creating embeddings and calculating similarity, you can identify the most relevant sections of content for answering questions.\n",
    "* Utilizing OpenAI's Completion API, you can generate accurate and context-aware answers based on the selected content."
   ]
  }
 ],
 "metadata": {
  "kernelspec": {
   "display_name": "Python 3 (ipykernel)",
   "language": "python",
   "name": "python3"
  },
  "language_info": {
   "codemirror_mode": {
    "name": "ipython",
    "version": 3
   },
   "file_extension": ".py",
   "mimetype": "text/x-python",
   "name": "python",
   "nbconvert_exporter": "python",
   "pygments_lexer": "ipython3",
   "version": "3.8.5"
  }
 },
 "nbformat": 4,
 "nbformat_minor": 5
}
